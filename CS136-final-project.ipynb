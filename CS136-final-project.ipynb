{
 "cells": [
  {
   "cell_type": "markdown",
   "id": "195c4faf",
   "metadata": {},
   "source": [
    "### DA algorithm and scoring for men-proposing"
   ]
  },
  {
   "cell_type": "code",
   "execution_count": 48,
   "id": "a1ff9a20",
   "metadata": {},
   "outputs": [],
   "source": [
    "def deferred_acceptance(m_prefs, w_prefs):\n",
    "    # Initialize all men as free and not yet proposed to anyone\n",
    "    free_men = list(m_prefs.keys())\n",
    "    \n",
    "    # Track the next woman to propose to for each man\n",
    "    next_proposal_index = {m: 0 for m in m_prefs}  \n",
    "    \n",
    "    # Keep track of current matches (woman: man)\n",
    "    matches = {}  \n",
    "\n",
    "    while free_men:\n",
    "        # Take a free man\n",
    "        man = free_men.pop(0)  \n",
    "        \n",
    "        # His next preferred woman\n",
    "        woman = m_prefs[man][next_proposal_index[man]]  \n",
    "        \n",
    "        # Move to next woman for future proposals\n",
    "        next_proposal_index[man] += 1  \n",
    "\n",
    "        if woman not in matches:\n",
    "            # Woman is free, they become matched\n",
    "            matches[woman] = man\n",
    "            \n",
    "        else:\n",
    "            # Woman is currently matched, check if she prefers this new proposal\n",
    "            current_match = matches[woman]\n",
    "            \n",
    "            if w_prefs[woman].index(man) < w_prefs[woman].index(current_match):\n",
    "                # She prefers new man\n",
    "                matches[woman] = man\n",
    "                \n",
    "                # Previous man is now free\n",
    "                free_men.append(current_match)  \n",
    "            else:\n",
    "                # She prefers her current match, rejected man remains free\n",
    "                free_men.append(man)  \n",
    "\n",
    "    # Converting matches to desired format (man: woman)\n",
    "    final_matches = {v: k for k, v in matches.items()}\n",
    "    \n",
    "    # Sorting keys alphanumerically\n",
    "    final_matches = dict(sorted(final_matches.items()))\n",
    "    \n",
    "    return final_matches\n",
    "\n",
    "\n",
    "def matching_score(final_matches, m_prefs, w_prefs):\n",
    "    men_score, women_score = 0, 0\n",
    "\n",
    "    for man, woman in final_matches.items():\n",
    "        # Score for men: Find the rank of the woman in this man's preferences\n",
    "        men_score += m_prefs[man].index(woman) + 1\n",
    "\n",
    "        # Score for women: Find the rank of the man in this woman's preferences\n",
    "        women_score += w_prefs[woman].index(man) + 1\n",
    "\n",
    "    return men_score, women_score, men_score + women_score"
   ]
  },
  {
   "cell_type": "markdown",
   "id": "3b614f54",
   "metadata": {},
   "source": [
    "### Define the preferences"
   ]
  },
  {
   "cell_type": "code",
   "execution_count": 49,
   "id": "75f0937a",
   "metadata": {},
   "outputs": [],
   "source": [
    "m_prefs = {\n",
    "    'm1': ['w2', 'w4', 'w5', 'w1', 'w3'],\n",
    "    'm2': ['w3', 'w2', 'w4', 'w1', 'w5'],\n",
    "    'm3': ['w1', 'w5', 'w4', 'w3', 'w2'],\n",
    "    'm4': ['w4', 'w2', 'w3', 'w1', 'w5'],\n",
    "    'm5': ['w2', 'w3', 'w5', 'w1', 'w4']\n",
    "}\n",
    "\n",
    "w_prefs = {\n",
    "    'w1': ['m4', 'm2', 'm1', 'm5', 'm3'],\n",
    "    'w2': ['m2', 'm4', 'm1', 'm5', 'm3'],\n",
    "    'w3': ['m4', 'm2', 'm1', 'm3', 'm5'],\n",
    "    'w4': ['m2', 'm1', 'm4', 'm5', 'm3'],\n",
    "    'w5': ['m1', 'm4', 'm2', 'm3', 'm5']\n",
    "}"
   ]
  },
  {
   "cell_type": "markdown",
   "id": "31f36348",
   "metadata": {},
   "source": [
    "### Running DA for men-proposing"
   ]
  },
  {
   "cell_type": "code",
   "execution_count": 50,
   "id": "690e01e7",
   "metadata": {},
   "outputs": [
    {
     "name": "stdout",
     "output_type": "stream",
     "text": [
      "{'w1': 'm5', 'w2': 'm2', 'w3': 'm4', 'w4': 'm1', 'w5': 'm3'}\n",
      "Men's Score: 7\n",
      "Women's Score: 18\n",
      "Total Score: 25\n"
     ]
    }
   ],
   "source": [
    "mp_matches = deferred_acceptance(m_prefs, w_prefs)\n",
    "print(matches)\n",
    "\n",
    "men_score, women_score, total_score = matching_score(mp_matches, m_prefs, w_prefs)\n",
    "print(\"Men's Score:\", men_score)\n",
    "print(\"Women's Score:\", women_score)\n",
    "print(\"Total Score:\", total_score)"
   ]
  },
  {
   "cell_type": "markdown",
   "id": "5953c418",
   "metadata": {},
   "source": [
    "### Running DA for women-proposing"
   ]
  },
  {
   "cell_type": "code",
   "execution_count": 51,
   "id": "f15c00e4",
   "metadata": {},
   "outputs": [
    {
     "name": "stdout",
     "output_type": "stream",
     "text": [
      "{'w1': 'm5', 'w2': 'm2', 'w3': 'm4', 'w4': 'm1', 'w5': 'm3'}\n",
      "Men's Score: 12\n",
      "Women's Score: 13\n",
      "Total Score: 25\n"
     ]
    }
   ],
   "source": [
    "wp_matches = deferred_acceptance(w_prefs, m_prefs)\n",
    "print(matches)\n",
    "\n",
    "men_score, women_score, total_score = matching_score(wp_matches, w_prefs, m_prefs)\n",
    "print(\"Men's Score:\", men_score)\n",
    "print(\"Women's Score:\", women_score)\n",
    "print(\"Total Score:\", total_score)"
   ]
  },
  {
   "cell_type": "markdown",
   "id": "7dfecac8",
   "metadata": {},
   "source": [
    "### Check if a matching is stable"
   ]
  },
  {
   "cell_type": "code",
   "execution_count": 52,
   "id": "3b312f3a",
   "metadata": {},
   "outputs": [],
   "source": [
    "def is_stable_matching(final_matches, m_prefs, w_prefs):\n",
    "    # Invert final_matches for easy access of woman's match\n",
    "    inverted_matches = {v: k for k, v in final_matches.items()}\n",
    "\n",
    "    for man, his_match in final_matches.items():\n",
    "        # Get the list of women preferred over his current match\n",
    "        preferred_women = m_prefs[man][:m_prefs[man].index(his_match)]\n",
    "\n",
    "        for woman in preferred_women:\n",
    "            # Get the man to whom the woman is currently matched\n",
    "            her_match = inverted_matches[woman]\n",
    "\n",
    "            # Check if this woman prefers this man over her current match\n",
    "            if w_prefs[woman].index(man) < w_prefs[woman].index(her_match):\n",
    "                return False  \n",
    "\n",
    "    # If no such pair is found, the matching is stable\n",
    "    return True"
   ]
  },
  {
   "cell_type": "markdown",
   "id": "fabe551c",
   "metadata": {},
   "source": [
    "### Checking matching stability via examples"
   ]
  },
  {
   "cell_type": "code",
   "execution_count": 53,
   "id": "4cce4fe3",
   "metadata": {
    "scrolled": true
   },
   "outputs": [
    {
     "name": "stdout",
     "output_type": "stream",
     "text": [
      "The matching is stable\n",
      "The matching is stable\n",
      "The matching is stable\n",
      "The matching is stable\n",
      "The matching is stable\n",
      "The matching is stable\n",
      "The matching is unstable\n"
     ]
    }
   ],
   "source": [
    "m_prefs = {\n",
    "    'm1': ['w2', 'w4', 'w5', 'w1', 'w3'],\n",
    "    'm2': ['w3', 'w2', 'w4', 'w1', 'w5'],\n",
    "    'm3': ['w1', 'w5', 'w4', 'w3', 'w2'],\n",
    "    'm4': ['w4', 'w2', 'w3', 'w1', 'w5'],\n",
    "    'm5': ['w2', 'w3', 'w5', 'w1', 'w4']\n",
    "}\n",
    "\n",
    "w_prefs = {\n",
    "    'w1': ['m4', 'm2', 'm1', 'm5', 'm3'],\n",
    "    'w2': ['m2', 'm4', 'm1', 'm5', 'm3'],\n",
    "    'w3': ['m4', 'm2', 'm1', 'm3', 'm5'],\n",
    "    'w4': ['m2', 'm1', 'm4', 'm5', 'm3'],\n",
    "    'w5': ['m1', 'm4', 'm2', 'm3', 'm5']\n",
    "}\n",
    "\n",
    "## these should all be stable\n",
    "# layer 1\n",
    "final_matches_1 = {'m1': 'w2', 'm2': 'w3', 'm3': 'w1', 'm4': 'w4', 'm5': 'w5'}\n",
    "\n",
    "# layer 2\n",
    "final_matches_2 = {'m1': 'w4', 'm2': 'w3', 'm3': 'w1', 'm4': 'w2', 'm5': 'w5'}\n",
    "final_matches_3 = {'m1': 'w2', 'm2': 'w3', 'm3': 'w5', 'm4': 'w4', 'm5': 'w1'}\n",
    "\n",
    "# layer 3\n",
    "final_matches_4 = {'m1': 'w4', 'm2': 'w2', 'm3': 'w1', 'm4': 'w3', 'm5': 'w5'}\n",
    "final_matches_5 = {'m1': 'w4', 'm2': 'w3', 'm3': 'w5', 'm4': 'w2', 'm5': 'w1'}\n",
    "\n",
    "# layer 4\n",
    "final_matches_6 = {'m1': 'w4', 'm2': 'w3', 'm3': 'w5', 'm4': 'w2', 'm5': 'w1'}\n",
    "\n",
    "# unstable example\n",
    "final_matches_7 = {'m1': 'w3', 'm2': 'w4', 'm3': 'w5', 'm4': 'w2', 'm5': 'w1'}\n",
    "\n",
    "is_stable = is_stable_matching(final_matches_1, m_prefs, w_prefs)\n",
    "print(\"The matching is stable\" if is_stable else \"The matching is unstable\")\n",
    "\n",
    "is_stable = is_stable_matching(final_matches_2, m_prefs, w_prefs)\n",
    "print(\"The matching is stable\" if is_stable else \"The matching is unstable\")\n",
    "\n",
    "is_stable = is_stable_matching(final_matches_3, m_prefs, w_prefs)\n",
    "print(\"The matching is stable\" if is_stable else \"The matching is unstable\")\n",
    "\n",
    "is_stable = is_stable_matching(final_matches_4, m_prefs, w_prefs)\n",
    "print(\"The matching is stable\" if is_stable else \"The matching is unstable\")\n",
    "\n",
    "is_stable = is_stable_matching(final_matches_5, m_prefs, w_prefs)\n",
    "print(\"The matching is stable\" if is_stable else \"The matching is unstable\")\n",
    "\n",
    "is_stable = is_stable_matching(final_matches_6, m_prefs, w_prefs)\n",
    "print(\"The matching is stable\" if is_stable else \"The matching is unstable\")\n",
    "\n",
    "is_stable = is_stable_matching(final_matches_7, m_prefs, w_prefs)\n",
    "print(\"The matching is stable\" if is_stable else \"The matching is unstable\")"
   ]
  },
  {
   "cell_type": "markdown",
   "id": "5bf4345e",
   "metadata": {},
   "source": [
    "### Lattice construction (naive)"
   ]
  },
  {
   "cell_type": "code",
   "execution_count": null,
   "id": "fbc4aa62",
   "metadata": {},
   "outputs": [],
   "source": [
    "# generate all matchings, filtering only for stable ones\n",
    "\n",
    "# start building lattice:\n",
    "\n",
    "# level 1: mp optimal\n",
    "# level 2: generate all 1-swap permutations of mp optimal, filtering only for stable ones\n",
    "# level 3: generate \n",
    "\n",
    "\n",
    "\n",
    "def lattice_builder()"
   ]
  },
  {
   "cell_type": "code",
   "execution_count": 55,
   "id": "3b310692",
   "metadata": {},
   "outputs": [
    {
     "name": "stdout",
     "output_type": "stream",
     "text": [
      "{'m1': 'w2', 'm2': 'w3', 'm3': 'w1', 'm4': 'w4', 'm5': 'w5'}\n"
     ]
    }
   ],
   "source": [
    "def join_matchings(mu, mu_prime, m_prefs):\n",
    "    # Invert mu_prime for easier comparison\n",
    "    mu_prime_inverted = {v: k for k, v in mu_prime.items()}\n",
    "\n",
    "    # Initialize the new matching\n",
    "    lambda_matching = {}\n",
    "\n",
    "    for man in mu:\n",
    "        woman_mu = mu[man]\n",
    "        woman_mu_prime = mu_prime_inverted[man]\n",
    "\n",
    "        # Check which woman is preferred by the man\n",
    "        if m_prefs[man].index(woman_mu) < m_prefs[man].index(woman_mu_prime):\n",
    "            # He prefers the woman in mu\n",
    "            lambda_matching[man] = woman_mu\n",
    "        else:\n",
    "            # He prefers the woman in mu_prime\n",
    "            lambda_matching[man] = woman_mu_prime\n",
    "\n",
    "    return lambda_matching\n",
    "\n",
    "# Example usage\n",
    "mu = {'m1': 'w2', 'm2': 'w3', 'm3': 'w1', 'm4': 'w4', 'm5': 'w5'}\n",
    "mu_prime = {'w1': 'm5', 'w2': 'm2', 'w3': 'm4', 'w4': 'm1', 'w5': 'm3'}\n",
    "\n",
    "# Assuming m_prefs is defined somewhere in your code\n",
    "# m_prefs = {...} \n",
    "\n",
    "lambda_matching = join_matchings(mu, mu_prime, m_prefs)\n",
    "print(lambda_matching)\n"
   ]
  },
  {
   "cell_type": "code",
   "execution_count": null,
   "id": "b5e84e6e",
   "metadata": {},
   "outputs": [],
   "source": []
  }
 ],
 "metadata": {
  "kernelspec": {
   "display_name": "Python 3 (ipykernel)",
   "language": "python",
   "name": "python3"
  },
  "language_info": {
   "codemirror_mode": {
    "name": "ipython",
    "version": 3
   },
   "file_extension": ".py",
   "mimetype": "text/x-python",
   "name": "python",
   "nbconvert_exporter": "python",
   "pygments_lexer": "ipython3",
   "version": "3.10.10"
  }
 },
 "nbformat": 4,
 "nbformat_minor": 5
}
